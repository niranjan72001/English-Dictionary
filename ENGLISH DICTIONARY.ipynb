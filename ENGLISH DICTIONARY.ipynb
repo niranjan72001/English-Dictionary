{
 "cells": [
  {
   "cell_type": "code",
   "execution_count": 1,
   "metadata": {},
   "outputs": [],
   "source": [
    "\n",
    "import json\n",
    "import difflib\n",
    "from difflib import get_close_matches as gcm"
   ]
  },
  {
   "cell_type": "code",
   "execution_count": 2,
   "metadata": {},
   "outputs": [
    {
     "name": "stderr",
     "output_type": "stream",
     "text": [
      "IOPub data rate exceeded.\n",
      "The notebook server will temporarily stop sending output\n",
      "to the client in order to avoid crashing it.\n",
      "To change this limit, set the config variable\n",
      "`--NotebookApp.iopub_data_rate_limit`.\n",
      "\n",
      "Current values:\n",
      "NotebookApp.iopub_data_rate_limit=1000000.0 (bytes/sec)\n",
      "NotebookApp.rate_limit_window=3.0 (secs)\n",
      "\n"
     ]
    }
   ],
   "source": [
    "data=json.load(open( \"data.json\"))\n",
    "type(data)\n",
    "print(data)"
   ]
  },
  {
   "cell_type": "code",
   "execution_count": 4,
   "metadata": {},
   "outputs": [
    {
     "name": "stdout",
     "output_type": "stream",
     "text": [
      "enter the word:hey\n",
      "Expression of greeting used by two or more people who meet each other.\n",
      "Exclamation of amazement.\n",
      "['Expression of greeting used by two or more people who meet each other.', 'Exclamation of amazement.']\n",
      "do you wish to continue?if yes enter 1 else 01\n",
      "enter the word:mango\n",
      "A tropical Asian fruit tree, Mangifera indica.\n",
      "The fruit of the mango tree.\n",
      "['A tropical Asian fruit tree, Mangifera indica.', 'The fruit of the mango tree.']\n",
      "do you wish to continue?if yes enter 1 else 00\n"
     ]
    }
   ],
   "source": [
    "def translate(x):\n",
    "    x=x.lower()\n",
    "    if x in data:\n",
    "        return data[x]\n",
    "    elif len(gcm(x,data.keys(),cutoff=0.8))>0 :\n",
    "        z=input(\"did u mean %s enter y/n /n\"%gcm(x,data.keys(),cutoff=0.8)[0])\n",
    "        if z=='y':\n",
    "            return(data[gcm(x,data.keys())[0]])\n",
    "        else :\n",
    "            return(\"the word doesnt exist\")\n",
    "    else:\n",
    "        return(\"the word doesnt exist\")\n",
    "i=1\n",
    "while(i!=0):\n",
    "  word=input(\"enter the word:\")\n",
    "  output=(translate(word))\n",
    "  if type(output)==list:\n",
    "    for x in output:\n",
    "        print(x)\n",
    "    else:\n",
    "     print(output)\n",
    "  i=int(input(\"do you wish to continue?if yes enter 1 else 0\"))\n",
    "\n"
   ]
  },
  {
   "cell_type": "code",
   "execution_count": null,
   "metadata": {},
   "outputs": [],
   "source": []
  },
  {
   "cell_type": "code",
   "execution_count": null,
   "metadata": {},
   "outputs": [],
   "source": []
  },
  {
   "cell_type": "code",
   "execution_count": null,
   "metadata": {},
   "outputs": [],
   "source": []
  },
  {
   "cell_type": "code",
   "execution_count": null,
   "metadata": {},
   "outputs": [],
   "source": [
    "\n"
   ]
  },
  {
   "cell_type": "code",
   "execution_count": null,
   "metadata": {},
   "outputs": [],
   "source": []
  },
  {
   "cell_type": "code",
   "execution_count": null,
   "metadata": {},
   "outputs": [],
   "source": []
  },
  {
   "cell_type": "code",
   "execution_count": null,
   "metadata": {},
   "outputs": [],
   "source": []
  },
  {
   "cell_type": "code",
   "execution_count": null,
   "metadata": {},
   "outputs": [],
   "source": []
  },
  {
   "cell_type": "code",
   "execution_count": null,
   "metadata": {},
   "outputs": [],
   "source": []
  }
 ],
 "metadata": {
  "kernelspec": {
   "display_name": "Python 3",
   "language": "python",
   "name": "python3"
  },
  "language_info": {
   "codemirror_mode": {
    "name": "ipython",
    "version": 3
   },
   "file_extension": ".py",
   "mimetype": "text/x-python",
   "name": "python",
   "nbconvert_exporter": "python",
   "pygments_lexer": "ipython3",
   "version": "3.8.5"
  }
 },
 "nbformat": 4,
 "nbformat_minor": 4
}
